{
 "cells": [
  {
   "cell_type": "code",
   "execution_count": 1,
   "id": "6e7b4ba1-4ca3-499d-99a5-e76bb2c2d69a",
   "metadata": {},
   "outputs": [],
   "source": [
    "import numpy as np\n",
    "import os\n",
    "import time\n",
    "import torch\n",
    "import torch.optim as optim\n",
    "from torch.utils.data import DataLoader, Dataset\n",
    "from tqdm import tqdm\n",
    "import model\n",
    "import argparse\n",
    "from model import Unet\n",
    "import train\n",
    "from torchvision import transforms\n",
    "from data.dataset import get_loader"
   ]
  },
  {
   "cell_type": "code",
   "execution_count": 14,
   "id": "8d317537-e529-435a-bfe8-5767c9435012",
   "metadata": {},
   "outputs": [],
   "source": [
    "_CSV_FILE_TRAIN_ = './data/image_pairs.csv'\n",
    "_CSV_FILE_VAL_ = './data/image_pairs.csv'\n",
    "_CSV_FILE_TEST_= './data/image_pairs.csv'"
   ]
  },
  {
   "cell_type": "code",
   "execution_count": 3,
   "id": "f18885f5-c671-4718-8f5e-22d6a22e389b",
   "metadata": {},
   "outputs": [],
   "source": [
    "config = {}\n",
    "config['data_dir'] = './data/image_toy'\n",
    "config['batch_size'] = 1"
   ]
  },
  {
   "cell_type": "code",
   "execution_count": 10,
   "id": "7f33010b-f358-4970-ac56-ef1ec1940f12",
   "metadata": {},
   "outputs": [],
   "source": [
    "config['n_class'] = 2\n",
    "config['lr'] = 0.005\n",
    "config['model_name']='Unet'\n",
    "config['weight_decay'] = 0.0001\n",
    "config['lr_reduce_factor'] = 0.9\n",
    "config['lr_schedule_patience'] = 10\n",
    "config['max_epoch'] = 3\n",
    "config['max_time'] = 3"
   ]
  },
  {
   "cell_type": "code",
   "execution_count": 15,
   "id": "9deaaf4c-7b68-432d-8c74-499a072bc3a2",
   "metadata": {},
   "outputs": [],
   "source": [
    "train_data, val_data, test_data = None, None, None\n",
    "train_loader, train_data = get_loader(data_dir=config['data_dir'], csv_file=_CSV_FILE_TRAIN_, split='train', batch_size=config['batch_size'],shuffle=True, num_workers=0,max_num_samples=-1)\n",
    "val_loader, val_data = get_loader(data_dir=config['data_dir'], csv_file=_CSV_FILE_VAL_, split='val', batch_size=config['batch_size'],shuffle=True, num_workers=0,max_num_samples=-1)\n",
    "test_loader, test_data = get_loader(data_dir=config['data_dir'], csv_file=_CSV_FILE_TEST_, split='test', batch_size=config['batch_size'],shuffle=True, num_workers=0,max_num_samples=-1)"
   ]
  },
  {
   "cell_type": "code",
   "execution_count": 16,
   "id": "e7071cb1-d10e-4003-8188-005d055c4824",
   "metadata": {},
   "outputs": [
    {
     "name": "stdout",
     "output_type": "stream",
     "text": [
      "Training samples:  1\n",
      "Validation samples:  1\n",
      "Test samples:  1\n"
     ]
    }
   ],
   "source": [
    "print(\"Training samples: \", len(train_data))\n",
    "print(\"Validation samples: \", len(val_data))\n",
    "print(\"Test samples: \", len(test_data))"
   ]
  },
  {
   "cell_type": "code",
   "execution_count": 17,
   "id": "b170bc8e-7e79-430e-85fe-e37075a92d0d",
   "metadata": {},
   "outputs": [
    {
     "name": "stdout",
     "output_type": "stream",
     "text": [
      "network structure is shown:\n",
      "\n",
      "Unet(\n",
      "  (dconv_down1): Sequential(\n",
      "    (0): Conv2d(1, 64, kernel_size=(3, 3), stride=(1, 1), padding=(1, 1))\n",
      "    (1): ReLU(inplace=True)\n",
      "    (2): Conv2d(64, 64, kernel_size=(3, 3), stride=(1, 1), padding=(1, 1))\n",
      "    (3): ReLU(inplace=True)\n",
      "  )\n",
      "  (dconv_down2): Sequential(\n",
      "    (0): Conv2d(64, 128, kernel_size=(3, 3), stride=(1, 1), padding=(1, 1))\n",
      "    (1): ReLU(inplace=True)\n",
      "    (2): Conv2d(128, 128, kernel_size=(3, 3), stride=(1, 1), padding=(1, 1))\n",
      "    (3): ReLU(inplace=True)\n",
      "  )\n",
      "  (dconv_down3): Sequential(\n",
      "    (0): Conv2d(128, 256, kernel_size=(3, 3), stride=(1, 1), padding=(1, 1))\n",
      "    (1): ReLU(inplace=True)\n",
      "    (2): Conv2d(256, 256, kernel_size=(3, 3), stride=(1, 1), padding=(1, 1))\n",
      "    (3): ReLU(inplace=True)\n",
      "  )\n",
      "  (dconv_down4): Sequential(\n",
      "    (0): Conv2d(256, 512, kernel_size=(3, 3), stride=(1, 1), padding=(1, 1))\n",
      "    (1): ReLU(inplace=True)\n",
      "    (2): Conv2d(512, 512, kernel_size=(3, 3), stride=(1, 1), padding=(1, 1))\n",
      "    (3): ReLU(inplace=True)\n",
      "  )\n",
      "  (maxpool): MaxPool2d(kernel_size=2, stride=2, padding=0, dilation=1, ceil_mode=False)\n",
      "  (upsample): Upsample(scale_factor=2.0, mode=bilinear)\n",
      "  (dconv_up3): Sequential(\n",
      "    (0): Conv2d(768, 256, kernel_size=(3, 3), stride=(1, 1), padding=(1, 1))\n",
      "    (1): ReLU(inplace=True)\n",
      "    (2): Conv2d(256, 256, kernel_size=(3, 3), stride=(1, 1), padding=(1, 1))\n",
      "    (3): ReLU(inplace=True)\n",
      "  )\n",
      "  (dconv_up2): Sequential(\n",
      "    (0): Conv2d(384, 128, kernel_size=(3, 3), stride=(1, 1), padding=(1, 1))\n",
      "    (1): ReLU(inplace=True)\n",
      "    (2): Conv2d(128, 128, kernel_size=(3, 3), stride=(1, 1), padding=(1, 1))\n",
      "    (3): ReLU(inplace=True)\n",
      "  )\n",
      "  (dconv_up1): Sequential(\n",
      "    (0): Conv2d(192, 64, kernel_size=(3, 3), stride=(1, 1), padding=(1, 1))\n",
      "    (1): ReLU(inplace=True)\n",
      "    (2): Conv2d(64, 64, kernel_size=(3, 3), stride=(1, 1), padding=(1, 1))\n",
      "    (3): ReLU(inplace=True)\n",
      "  )\n",
      "  (conv_last): Conv2d(64, 2, kernel_size=(1, 1), stride=(1, 1))\n",
      ")\n"
     ]
    }
   ],
   "source": [
    "device = torch.device('cpu')\n",
    "model = Unet(config['n_class'])\n",
    "train_epoch = getattr(train, 'Train')()\n",
    "model.to(device)\n",
    "\n",
    "print('network structure is shown:\\n\\n{}'.format(model))\n",
    "\n",
    "# step 3: loss and optimizer\n",
    "optimizer = optim.Adam(model.parameters(), lr=config['lr'], weight_decay=config['weight_decay'])\n",
    "scheduler = optim.lr_scheduler.ReduceLROnPlateau(optimizer, mode='min', factor=config['lr_reduce_factor'],\n",
    "                                                     patience=config['lr_schedule_patience'], verbose=True)\n",
    "\n",
    "epoch_train_losses, epoch_val_losses = [], []\n",
    "per_epoch_time = []"
   ]
  },
  {
   "cell_type": "code",
   "execution_count": 19,
   "id": "52758711-0716-4c1b-b091-ebbbccedc835",
   "metadata": {},
   "outputs": [
    {
     "name": "stdout",
     "output_type": "stream",
     "text": [
      "\n",
      " start training! \n",
      "\n"
     ]
    },
    {
     "name": "stderr",
     "output_type": "stream",
     "text": [
      "Epoch:2: 100%|██████████| 3/3 [03:49<00:00, 76.45s/it, lr=0.0005, time=78.7, train_loss=0.903, val_loss=0.987]\n"
     ]
    },
    {
     "name": "stdout",
     "output_type": "stream",
     "text": [
      "Convergence Time (Epochs): 3.0000\n",
      "TOTAL TIME TAKEN: 231.4112s\n",
      "AVG TIME PER EPOCH: 76.4437s\n",
      "Finish!\n"
     ]
    }
   ],
   "source": [
    "t0 = time.time()\n",
    "print('\\n start training! \\n')\n",
    "time.sleep(1)\n",
    "with tqdm(range(config['max_epoch'])) as t:\n",
    "    for epoch in t:\n",
    "        t.set_description('Epoch:{}'.format(epoch))\n",
    "        start = time.time()\n",
    "        epoch_train_loss, optimizer = train_epoch.train(model, optimizer, device, train_loader, epoch)\n",
    "        epoch_val_loss = train_epoch.validate(model, device, val_loader, epoch)\n",
    "        epoch_test_loss = train_epoch.validate(model, device, test_loader, epoch)\n",
    "\n",
    "        epoch_train_losses.append(epoch_train_loss)\n",
    "        epoch_val_losses.append(epoch_val_loss)\n",
    "\n",
    "        t.set_postfix(time=time.time() - start, lr=optimizer.param_groups[0]['lr'], train_loss=epoch_train_loss,\n",
    "                          val_loss=epoch_val_loss)\n",
    "        per_epoch_time.append(time.time() - start)\n",
    "        scheduler.step(epoch_val_loss)\n",
    "\n",
    "        # Stop training if max hours exceed\n",
    "        if time.time() - t0 > config['max_time'] * 3600:\n",
    "            print('-' * 20)\n",
    "            print(\"Max_time for training elapsed {:.2f} hours, so stopping\".format(config['max_time']))\n",
    "            break\n",
    "\n",
    "# print training/testing information\n",
    "time.sleep(1)\n",
    "\n",
    "print(\"Convergence Time (Epochs): {:.4f}\".format(epoch + 1))\n",
    "print(\"TOTAL TIME TAKEN: {:.4f}s\".format(time.time() - t0))\n",
    "print(\"AVG TIME PER EPOCH: {:.4f}s\".format(np.mean(per_epoch_time)))\n",
    "print('Finish!')"
   ]
  },
  {
   "cell_type": "code",
   "execution_count": 28,
   "id": "e62b30ce-3bd7-4a55-b705-f911166e9f54",
   "metadata": {},
   "outputs": [],
   "source": [
    "for it, (img_inputs, target) in enumerate(train_loader):\n",
    "    img_inputs = img_inputs.to(device)\n",
    "    target = target.to(device)\n",
    "    break\n",
    "\n",
    "pred = model(img_inputs)\n",
    "demo = torch.argmax(pred,dim=1)\n",
    "d = demo[0].cpu().detach().numpy()"
   ]
  },
  {
   "cell_type": "code",
   "execution_count": 36,
   "id": "a170ef40-147f-4ae2-b81a-cf7b376fc183",
   "metadata": {},
   "outputs": [],
   "source": [
    "import h5py\n",
    "import numpy as np\n",
    "import os, sys\n",
    "import numpy as np\n",
    "from PIL import Image\n",
    "\n",
    "def hdf_2_array(filename):\n",
    "    hdf = h5py.File(filename,'r')\n",
    "    data = hdf['MDF']['images']['0']['image']\n",
    "    arr = np.array(data)\n",
    "    return arr\n",
    "\n",
    "def arr_to_img(test):\n",
    "    formatted = (test * 255 / np.max(test)).astype('uint8')\n",
    "    img = Image.fromarray(formatted)\n",
    "    return img"
   ]
  },
  {
   "cell_type": "code",
   "execution_count": 37,
   "id": "5b23fc13-25b8-4ebc-83f0-688cefd5363c",
   "metadata": {},
   "outputs": [],
   "source": [
    "filename = './data/image_toy/20200109pp-set37__bin4_whole_seg.hdf'\n",
    "seg = hdf_2_array(filename)"
   ]
  },
  {
   "cell_type": "code",
   "execution_count": 38,
   "id": "5713aa28-412a-49ab-85be-fbfbc281882a",
   "metadata": {},
   "outputs": [
    {
     "data": {
      "image/png": "[encoded data removed]",
      "text/plain": [
       "<PIL.Image.Image image mode=L size=960x960 at 0x16087E74E50>"
      ]
     },
     "execution_count": 38,
     "metadata": {},
     "output_type": "execute_result"
    }
   ],
   "source": [
    "arr_to_img(seg)"
   ]
  },
  {
   "cell_type": "code",
   "execution_count": 39,
   "id": "9e6c4a12-56e4-43df-ba3d-0782ce9edc25",
   "metadata": {},
   "outputs": [
    {
     "name": "stderr",
     "output_type": "stream",
     "text": [
      "C:\\Users\\60298\\AppData\\Local\\Temp/ipykernel_15212/2081866388.py:14: RuntimeWarning: invalid value encountered in true_divide\n",
      "  formatted = (test * 255 / np.max(test)).astype('uint8')\n"
     ]
    },
    {
     "data": {
      "image/png": "[encoded data removed]",
      "text/plain": [
       "<PIL.Image.Image image mode=L size=960x960 at 0x160886AE3D0>"
      ]
     },
     "execution_count": 39,
     "metadata": {},
     "output_type": "execute_result"
    }
   ],
   "source": [
    "arr_to_img(d)"
   ]
  },
  {
   "cell_type": "code",
   "execution_count": null,
   "id": "7d6cf041-1f8a-494f-8edf-b3dacdd5751e",
   "metadata": {},
   "outputs": [],
   "source": []
  }
 ],
 "metadata": {
  "kernelspec": {
   "display_name": "Python 3 (ipykernel)",
   "language": "python",
   "name": "python3"
  },
  "language_info": {
   "codemirror_mode": {
    "name": "ipython",
    "version": 3
   },
   "file_extension": ".py",
   "mimetype": "text/x-python",
   "name": "python",
   "nbconvert_exporter": "python",
   "pygments_lexer": "ipython3",
   "version": "3.9.7"
  }
 },
 "nbformat": 4,
 "nbformat_minor": 5
}
