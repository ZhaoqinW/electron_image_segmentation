{
 "cells": [
  {
   "cell_type": "code",
   "execution_count": 1,
   "id": "6e7b4ba1-4ca3-499d-99a5-e76bb2c2d69a",
   "metadata": {},
   "outputs": [],
   "source": [
    "from torch.utils.data import Dataset, DataLoader\n",
    "from torchvision import transforms, utils"
   ]
  },
  {
   "cell_type": "code",
   "execution_count": 1,
   "id": "44119491-1bd1-4e96-bbdb-a117ed42bb13",
   "metadata": {},
   "outputs": [],
   "source": [
    "import pandas as pd"
   ]
  },
  {
   "cell_type": "code",
   "execution_count": 3,
   "id": "4506bd80-2bbd-4c0f-9d52-7f84cf8b5aee",
   "metadata": {},
   "outputs": [
    {
     "name": "stdout",
     "output_type": "stream",
     "text": [
      "Collecting h5py\n",
      "  Downloading h5py-3.6.0-cp37-cp37m-win_amd64.whl (2.8 MB)\n",
      "Collecting cached-property\n",
      "  Downloading cached_property-1.5.2-py2.py3-none-any.whl (7.6 kB)\n",
      "Requirement already satisfied: numpy>=1.14.5 in d:\\software\\anaconda\\new folder\\envs\\deep_learning\\lib\\site-packages (from h5py) (1.21.2)\n",
      "Installing collected packages: cached-property, h5py\n",
      "Successfully installed cached-property-1.5.2 h5py-3.6.0\n"
     ]
    }
   ],
   "source": [
    "! pip install h5py"
   ]
  },
  {
   "cell_type": "code",
   "execution_count": 4,
   "id": "9deaaf4c-7b68-432d-8c74-499a072bc3a2",
   "metadata": {},
   "outputs": [],
   "source": [
    "import pandas as pd\n",
    "import h5py\n",
    "import numpy as np\n",
    "from PIL import Image"
   ]
  },
  {
   "cell_type": "code",
   "execution_count": 6,
   "id": "779e2715-83d2-45ad-bd7e-e7290fb89b62",
   "metadata": {},
   "outputs": [],
   "source": [
    "filename = './image_toy/20200109pp-set37__bin4_whole_seg.hdf'\n",
    "hdf = h5py.File(filename,'r')\n",
    "data = hdf['MDF']['images']['0']['image']\n",
    "test = np.array(data)"
   ]
  },
  {
   "cell_type": "code",
   "execution_count": 8,
   "id": "1fd9c19b-ad27-4bd6-b71b-d0f03a47b818",
   "metadata": {},
   "outputs": [],
   "source": [
    "formatted = (test * 255 / np.max(test)).astype('uint8')\n",
    "img = Image.fromarray(formatted)\n",
    "#img"
   ]
  },
  {
   "cell_type": "code",
   "execution_count": 9,
   "id": "b7697bb2-c7b0-4bc0-b31c-fd289eefd99f",
   "metadata": {},
   "outputs": [],
   "source": [
    "import os, sys"
   ]
  },
  {
   "cell_type": "code",
   "execution_count": 12,
   "id": "4d95fc0e-8f2b-44ca-85fc-a39d4d537901",
   "metadata": {},
   "outputs": [
    {
     "data": {
      "text/plain": [
       "['20200109pp-set37__bin4_whole.hdf', '20200109pp-set37__bin4_whole_seg.hdf']"
      ]
     },
     "execution_count": 12,
     "metadata": {},
     "output_type": "execute_result"
    }
   ],
   "source": [
    "file_dir = './image_toy'\n",
    "suffix = '_whole.hdf'\n",
    "file_list = os.listdir(file_dir)\n",
    "file_list "
   ]
  },
  {
   "cell_type": "code",
   "execution_count": 13,
   "id": "b288749f-bbc7-40ef-8841-a30ca0f95015",
   "metadata": {},
   "outputs": [],
   "source": [
    "whole_images = [f for f in file_list if f.endswith(suffix)]"
   ]
  },
  {
   "cell_type": "code",
   "execution_count": 15,
   "id": "a5697786-398e-4a09-a3bf-ac1c9e3de028",
   "metadata": {},
   "outputs": [],
   "source": [
    "f = whole_images[0]"
   ]
  },
  {
   "cell_type": "code",
   "execution_count": 17,
   "id": "14cbe7ee-13aa-4a30-b2fb-2efe7414af9c",
   "metadata": {},
   "outputs": [],
   "source": [
    "prefix = f.split(suffix)[0]"
   ]
  },
  {
   "cell_type": "code",
   "execution_count": 18,
   "id": "c16c7bea-9392-4dc1-a3dd-2363640ed53a",
   "metadata": {},
   "outputs": [
    {
     "data": {
      "text/html": [
       "<div>\n",
       "<style scoped>\n",
       "    .dataframe tbody tr th:only-of-type {\n",
       "        vertical-align: middle;\n",
       "    }\n",
       "\n",
       "    .dataframe tbody tr th {\n",
       "        vertical-align: top;\n",
       "    }\n",
       "\n",
       "    .dataframe thead th {\n",
       "        text-align: right;\n",
       "    }\n",
       "</style>\n",
       "<table border=\"1\" class=\"dataframe\">\n",
       "  <thead>\n",
       "    <tr style=\"text-align: right;\">\n",
       "      <th></th>\n",
       "      <th>image</th>\n",
       "      <th>truth</th>\n",
       "    </tr>\n",
       "  </thead>\n",
       "  <tbody>\n",
       "    <tr>\n",
       "      <th>0</th>\n",
       "      <td>20200109pp-set37__bin4_whole.hdf</td>\n",
       "      <td>20200109pp-set37__bin4_whole_seg.hdf</td>\n",
       "    </tr>\n",
       "  </tbody>\n",
       "</table>\n",
       "</div>"
      ],
      "text/plain": [
       "                              image                                 truth\n",
       "0  20200109pp-set37__bin4_whole.hdf  20200109pp-set37__bin4_whole_seg.hdf"
      ]
     },
     "execution_count": 18,
     "metadata": {},
     "output_type": "execute_result"
    }
   ],
   "source": [
    "df = pd.read_csv('image_pairs.csv')\n",
    "df.head()"
   ]
  },
  {
   "cell_type": "code",
   "execution_count": 20,
   "id": "23e3cb6e-78ae-44e4-b46d-6c46821a9d44",
   "metadata": {},
   "outputs": [
    {
     "data": {
      "text/plain": [
       "'20200109pp-set37__bin4_whole.hdf'"
      ]
     },
     "execution_count": 20,
     "metadata": {},
     "output_type": "execute_result"
    }
   ],
   "source": [
    "df.iloc[0,]['image']"
   ]
  },
  {
   "cell_type": "code",
   "execution_count": 21,
   "id": "6bac3ef8-223d-44b8-8286-56d3a2da70d3",
   "metadata": {},
   "outputs": [],
   "source": [
    "file_dir = './image_toy'\n",
    "\n",
    "suffix = '_whole.hdf'\n",
    "file_list = os.listdir(file_dir)\n",
    "truth_suffix = '_whole_seg.hdf'\n",
    "\n",
    "whole_images = [f for f in file_list if f.endswith(suffix)]\n",
    "record = []\n",
    "for f in whole_images:\n",
    "    prefix = f.split(suffix)[0]\n",
    "    truth = prefix+truth_suffix\n",
    "    record.append([f,truth])\n",
    "\n",
    "data = pd.DataFrame(record)\n",
    "data.columns = ['image','truth']\n",
    "data.to_csv('image_pairs.csv',index=False)"
   ]
  },
  {
   "cell_type": "code",
   "execution_count": 22,
   "id": "d1d37804-f94f-4f59-ba10-e6ff1966b945",
   "metadata": {},
   "outputs": [
    {
     "data": {
      "text/html": [
       "<div>\n",
       "<style scoped>\n",
       "    .dataframe tbody tr th:only-of-type {\n",
       "        vertical-align: middle;\n",
       "    }\n",
       "\n",
       "    .dataframe tbody tr th {\n",
       "        vertical-align: top;\n",
       "    }\n",
       "\n",
       "    .dataframe thead th {\n",
       "        text-align: right;\n",
       "    }\n",
       "</style>\n",
       "<table border=\"1\" class=\"dataframe\">\n",
       "  <thead>\n",
       "    <tr style=\"text-align: right;\">\n",
       "      <th></th>\n",
       "      <th>image</th>\n",
       "      <th>truth</th>\n",
       "    </tr>\n",
       "  </thead>\n",
       "  <tbody>\n",
       "    <tr>\n",
       "      <th>0</th>\n",
       "      <td>20200109pp-set37__bin4_whole.hdf</td>\n",
       "      <td>20200109pp-set37__bin4_whole_seg.hdf</td>\n",
       "    </tr>\n",
       "  </tbody>\n",
       "</table>\n",
       "</div>"
      ],
      "text/plain": [
       "                              image                                 truth\n",
       "0  20200109pp-set37__bin4_whole.hdf  20200109pp-set37__bin4_whole_seg.hdf"
      ]
     },
     "execution_count": 22,
     "metadata": {},
     "output_type": "execute_result"
    }
   ],
   "source": [
    "csv_file = 'image_pairs.csv'\n",
    "df = pd.read_csv(csv_file)\n",
    "df"
   ]
  },
  {
   "cell_type": "code",
   "execution_count": null,
   "id": "8f68622d-7866-45bd-bd36-8a73b3148bb7",
   "metadata": {},
   "outputs": [],
   "source": []
  }
 ],
 "metadata": {
  "kernelspec": {
   "display_name": "Python 3 (ipykernel)",
   "language": "python",
   "name": "python3"
  },
  "language_info": {
   "codemirror_mode": {
    "name": "ipython",
    "version": 3
   },
   "file_extension": ".py",
   "mimetype": "text/x-python",
   "name": "python",
   "nbconvert_exporter": "python",
   "pygments_lexer": "ipython3",
   "version": "3.7.6"
  }
 },
 "nbformat": 4,
 "nbformat_minor": 5
}
